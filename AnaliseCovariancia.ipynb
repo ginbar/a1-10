{
 "cells": [
  {
   "cell_type": "code",
   "execution_count": 1,
   "id": "531258f5-62d3-4977-90cd-8e2e353c1ba5",
   "metadata": {
    "tags": []
   },
   "outputs": [],
   "source": [
    "import pandas as pd\n",
    "import seaborn as sns\n",
    "from matplotlib import pyplot as plt\n",
    "import numpy as np\n",
    "import stan\n",
    "from itertools import combinations"
   ]
  },
  {
   "cell_type": "code",
   "execution_count": 2,
   "id": "ad8557b9-c439-4d81-8e3d-66fcb8cf18e4",
   "metadata": {
    "tags": []
   },
   "outputs": [],
   "source": [
    "df = pd.read_csv(\"./curso-55N-2024.csv\", delimiter=\";\", skipinitialspace=True)\n",
    "\n",
    "df = df[df[\"ANO_EVASAO\"].str.match(r'\\d+$')]\n",
    "df = df[df[\"ANO_INGRESSO\"].str.match(r'\\d+$')]"
   ]
  },
  {
   "cell_type": "code",
   "execution_count": 4,
   "id": "4872ea90-cf84-41a5-a77a-40d499891ba6",
   "metadata": {
    "tags": []
   },
   "outputs": [
    {
     "data": {
      "text/html": [
       "<div>\n",
       "<style scoped>\n",
       "    .dataframe tbody tr th:only-of-type {\n",
       "        vertical-align: middle;\n",
       "    }\n",
       "\n",
       "    .dataframe tbody tr th {\n",
       "        vertical-align: top;\n",
       "    }\n",
       "\n",
       "    .dataframe thead th {\n",
       "        text-align: right;\n",
       "    }\n",
       "</style>\n",
       "<table border=\"1\" class=\"dataframe\">\n",
       "  <thead>\n",
       "    <tr style=\"text-align: right;\">\n",
       "      <th></th>\n",
       "      <th>NUM_PERIODO_ALUNO</th>\n",
       "      <th>FORMA_EVASAO</th>\n",
       "    </tr>\n",
       "  </thead>\n",
       "  <tbody>\n",
       "    <tr>\n",
       "      <th>COTISTA</th>\n",
       "      <td>-0.067028</td>\n",
       "      <td>0.044230</td>\n",
       "    </tr>\n",
       "    <tr>\n",
       "      <th>TIPO_COTA</th>\n",
       "      <td>-0.002110</td>\n",
       "      <td>0.000063</td>\n",
       "    </tr>\n",
       "    <tr>\n",
       "      <th>MATR_ALUNO</th>\n",
       "      <td>0.073562</td>\n",
       "      <td>0.041621</td>\n",
       "    </tr>\n",
       "    <tr>\n",
       "      <th>ANO_EVASAO</th>\n",
       "      <td>-0.006223</td>\n",
       "      <td>0.076353</td>\n",
       "    </tr>\n",
       "    <tr>\n",
       "      <th>PERIODO_EVASAO</th>\n",
       "      <td>-0.032738</td>\n",
       "      <td>0.040234</td>\n",
       "    </tr>\n",
       "    <tr>\n",
       "      <th>FORMA_EVASAO</th>\n",
       "      <td>-0.082201</td>\n",
       "      <td>1.000000</td>\n",
       "    </tr>\n",
       "    <tr>\n",
       "      <th>ANO_INGRESSO</th>\n",
       "      <td>0.065040</td>\n",
       "      <td>0.001992</td>\n",
       "    </tr>\n",
       "    <tr>\n",
       "      <th>DT_SAIDA</th>\n",
       "      <td>0.024397</td>\n",
       "      <td>0.034896</td>\n",
       "    </tr>\n",
       "    <tr>\n",
       "      <th>SEXO</th>\n",
       "      <td>0.010655</td>\n",
       "      <td>-0.087184</td>\n",
       "    </tr>\n",
       "    <tr>\n",
       "      <th>PERIODO_INGRESSO</th>\n",
       "      <td>0.054325</td>\n",
       "      <td>0.161853</td>\n",
       "    </tr>\n",
       "    <tr>\n",
       "      <th>ETNIA</th>\n",
       "      <td>-0.013095</td>\n",
       "      <td>0.042113</td>\n",
       "    </tr>\n",
       "    <tr>\n",
       "      <th>NUM_PERIODO_ALUNO</th>\n",
       "      <td>1.000000</td>\n",
       "      <td>-0.082201</td>\n",
       "    </tr>\n",
       "  </tbody>\n",
       "</table>\n",
       "</div>"
      ],
      "text/plain": [
       "                   NUM_PERIODO_ALUNO  FORMA_EVASAO\n",
       "COTISTA                    -0.067028      0.044230\n",
       "TIPO_COTA                  -0.002110      0.000063\n",
       "MATR_ALUNO                  0.073562      0.041621\n",
       "ANO_EVASAO                 -0.006223      0.076353\n",
       "PERIODO_EVASAO             -0.032738      0.040234\n",
       "FORMA_EVASAO               -0.082201      1.000000\n",
       "ANO_INGRESSO                0.065040      0.001992\n",
       "DT_SAIDA                    0.024397      0.034896\n",
       "SEXO                        0.010655     -0.087184\n",
       "PERIODO_INGRESSO            0.054325      0.161853\n",
       "ETNIA                      -0.013095      0.042113\n",
       "NUM_PERIODO_ALUNO           1.000000     -0.082201"
      ]
     },
     "execution_count": 4,
     "metadata": {},
     "output_type": "execute_result"
    }
   ],
   "source": [
    "df = df.apply(lambda x : pd.factorize(x)[0])\n",
    "\n",
    "corr = df.corr(method='pearson', min_periods=1)\n",
    "\n",
    "corr[[\"NUM_PERIODO_ALUNO\", \"FORMA_EVASAO\"]].dropna()"
   ]
  },
  {
   "cell_type": "code",
   "execution_count": 5,
   "id": "4cad4eb6-133a-4ebe-a7a1-390aa4f58397",
   "metadata": {
    "tags": []
   },
   "outputs": [],
   "source": [
    "correlation_model = \"\"\"\n",
    "data {\n",
    "  int<lower=0> N;  \n",
    "  vector[N] X;     \n",
    "  vector[N] Y;     \n",
    "}\n",
    "\n",
    "parameters {\n",
    "  real beta0;     \n",
    "  real beta1;     \n",
    "  real<lower=0> sigma; \n",
    "}\n",
    "\n",
    "model {\n",
    "  beta0 ~ normal(0, 10);\n",
    "  beta1 ~ normal(0, 10); \n",
    "  sigma ~ cauchy(0, 5);\n",
    "\n",
    "  Y ~ normal(beta0 + beta1 * X, sigma);\n",
    "}\n",
    "\n",
    "generated quantities {\n",
    "  real beta1_rep;  \n",
    "  beta1_rep = normal_rng(beta1, 0.1);\n",
    "}\n",
    "\"\"\""
   ]
  },
  {
   "cell_type": "code",
   "execution_count": 6,
   "id": "a2156589-00a3-4615-95e4-3cfb979c5857",
   "metadata": {
    "tags": []
   },
   "outputs": [
    {
     "ename": "RuntimeError",
     "evalue": "asyncio.run() cannot be called from a running event loop",
     "output_type": "error",
     "traceback": [
      "\u001b[0;31m---------------------------------------------------------------------------\u001b[0m",
      "\u001b[0;31mRuntimeError\u001b[0m                              Traceback (most recent call last)",
      "Cell \u001b[0;32mIn[6], line 23\u001b[0m\n\u001b[1;32m     11\u001b[0m reg1_data \u001b[38;5;241m=\u001b[39m {\n\u001b[1;32m     12\u001b[0m     \u001b[38;5;124m'\u001b[39m\u001b[38;5;124mN\u001b[39m\u001b[38;5;124m'\u001b[39m: \u001b[38;5;28mlen\u001b[39m(series),\n\u001b[1;32m     13\u001b[0m     \u001b[38;5;124m'\u001b[39m\u001b[38;5;124mX\u001b[39m\u001b[38;5;124m'\u001b[39m: series,\n\u001b[1;32m     14\u001b[0m     \u001b[38;5;124m'\u001b[39m\u001b[38;5;124mY\u001b[39m\u001b[38;5;124m'\u001b[39m: semesters \n\u001b[1;32m     15\u001b[0m }\n\u001b[1;32m     17\u001b[0m reg2_data \u001b[38;5;241m=\u001b[39m {\n\u001b[1;32m     18\u001b[0m     \u001b[38;5;124m'\u001b[39m\u001b[38;5;124mN\u001b[39m\u001b[38;5;124m'\u001b[39m: \u001b[38;5;28mlen\u001b[39m(series),\n\u001b[1;32m     19\u001b[0m     \u001b[38;5;124m'\u001b[39m\u001b[38;5;124mX\u001b[39m\u001b[38;5;124m'\u001b[39m: series,\n\u001b[1;32m     20\u001b[0m     \u001b[38;5;124m'\u001b[39m\u001b[38;5;124mY\u001b[39m\u001b[38;5;124m'\u001b[39m: dropout \n\u001b[1;32m     21\u001b[0m }\n\u001b[0;32m---> 23\u001b[0m posterior1 \u001b[38;5;241m=\u001b[39m stan\u001b[38;5;241m.\u001b[39mbuild(correlation_model, reg1_data)\n\u001b[1;32m     24\u001b[0m posterior2 \u001b[38;5;241m=\u001b[39m stan\u001b[38;5;241m.\u001b[39mbuild(correlation_model, reg2_data)\n\u001b[1;32m     26\u001b[0m fit1 \u001b[38;5;241m=\u001b[39m posterior1\u001b[38;5;241m.\u001b[39msample(num_chains\u001b[38;5;241m=\u001b[39m\u001b[38;5;241m4\u001b[39m, num_samples\u001b[38;5;241m=\u001b[39m\u001b[38;5;241m1000\u001b[39m)\n",
      "File \u001b[0;32m~/anaconda3/lib/python3.11/site-packages/stan/model.py:519\u001b[0m, in \u001b[0;36mbuild\u001b[0;34m(program_code, data, random_seed)\u001b[0m\n\u001b[1;32m    516\u001b[0m         \u001b[38;5;28;01mreturn\u001b[39;00m Model(model_name, program_code, data, param_names, constrained_param_names, dims, random_seed)\n\u001b[1;32m    518\u001b[0m \u001b[38;5;28;01mtry\u001b[39;00m:\n\u001b[0;32m--> 519\u001b[0m     \u001b[38;5;28;01mreturn\u001b[39;00m asyncio\u001b[38;5;241m.\u001b[39mrun(go())\n\u001b[1;32m    520\u001b[0m \u001b[38;5;28;01mexcept\u001b[39;00m \u001b[38;5;167;01mKeyboardInterrupt\u001b[39;00m:\n\u001b[1;32m    521\u001b[0m     \u001b[38;5;28;01mreturn\u001b[39;00m\n",
      "File \u001b[0;32m~/anaconda3/lib/python3.11/asyncio/runners.py:186\u001b[0m, in \u001b[0;36mrun\u001b[0;34m(main, debug)\u001b[0m\n\u001b[1;32m    161\u001b[0m \u001b[38;5;250m\u001b[39m\u001b[38;5;124;03m\"\"\"Execute the coroutine and return the result.\u001b[39;00m\n\u001b[1;32m    162\u001b[0m \n\u001b[1;32m    163\u001b[0m \u001b[38;5;124;03mThis function runs the passed coroutine, taking care of\u001b[39;00m\n\u001b[0;32m   (...)\u001b[0m\n\u001b[1;32m    182\u001b[0m \u001b[38;5;124;03m    asyncio.run(main())\u001b[39;00m\n\u001b[1;32m    183\u001b[0m \u001b[38;5;124;03m\"\"\"\u001b[39;00m\n\u001b[1;32m    184\u001b[0m \u001b[38;5;28;01mif\u001b[39;00m events\u001b[38;5;241m.\u001b[39m_get_running_loop() \u001b[38;5;129;01mis\u001b[39;00m \u001b[38;5;129;01mnot\u001b[39;00m \u001b[38;5;28;01mNone\u001b[39;00m:\n\u001b[1;32m    185\u001b[0m     \u001b[38;5;66;03m# fail fast with short traceback\u001b[39;00m\n\u001b[0;32m--> 186\u001b[0m     \u001b[38;5;28;01mraise\u001b[39;00m \u001b[38;5;167;01mRuntimeError\u001b[39;00m(\n\u001b[1;32m    187\u001b[0m         \u001b[38;5;124m\"\u001b[39m\u001b[38;5;124masyncio.run() cannot be called from a running event loop\u001b[39m\u001b[38;5;124m\"\u001b[39m)\n\u001b[1;32m    189\u001b[0m \u001b[38;5;28;01mwith\u001b[39;00m Runner(debug\u001b[38;5;241m=\u001b[39mdebug) \u001b[38;5;28;01mas\u001b[39;00m runner:\n\u001b[1;32m    190\u001b[0m     \u001b[38;5;28;01mreturn\u001b[39;00m runner\u001b[38;5;241m.\u001b[39mrun(main)\n",
      "\u001b[0;31mRuntimeError\u001b[0m: asyncio.run() cannot be called from a running event loop"
     ]
    }
   ],
   "source": [
    "semesters_beta1 = []\n",
    "dropout_beta1 = []\n",
    "columns = []\n",
    "\n",
    "for column, series in df.items():\n",
    "\n",
    "    series = series.to_numpy()\n",
    "    semesters = df[\"NUM_PERIODO_ALUNO\"].to_numpy()\n",
    "    dropout = df[\"FORMA_EVASAO\"].to_numpy()\n",
    "\n",
    "    reg1_data = {\n",
    "        'N': len(series),\n",
    "        'X': series,\n",
    "        'Y': semesters \n",
    "    }\n",
    "    \n",
    "    reg2_data = {\n",
    "        'N': len(series),\n",
    "        'X': series,\n",
    "        'Y': dropout \n",
    "    }\n",
    "\n",
    "    posterior1 = stan.build(correlation_model, reg1_data)\n",
    "    posterior2 = stan.build(correlation_model, reg2_data)\n",
    "\n",
    "    fit1 = posterior1.sample(num_chains=4, num_samples=1000)\n",
    "    fit2 = posterior2.sample(num_chains=4, num_samples=1000)\n",
    "\n",
    "    beta1_test1 = fit1.to_frame()[\"beta1_rep\"].mean()\n",
    "    beta1_test2 = fit2.to_frame()[\"beta1_rep\"].mean()\n",
    "\n",
    "    columns.append(column)\n",
    "    semesters_beta1.append(beta1_test1)\n",
    "    dropout_beta1.append(beta1_test2)"
   ]
  },
  {
   "cell_type": "code",
   "execution_count": 7,
   "id": "35de52a5-0b9b-41bc-92d9-a672ac42eedf",
   "metadata": {
    "tags": []
   },
   "outputs": [
    {
     "ename": "NameError",
     "evalue": "name 'corr_df' is not defined",
     "output_type": "error",
     "traceback": [
      "\u001b[0;31m---------------------------------------------------------------------------\u001b[0m",
      "\u001b[0;31mNameError\u001b[0m                                 Traceback (most recent call last)",
      "Cell \u001b[0;32mIn[7], line 7\u001b[0m\n\u001b[1;32m      1\u001b[0m orr_df \u001b[38;5;241m=\u001b[39m pd\u001b[38;5;241m.\u001b[39mDataFrame({\n\u001b[1;32m      2\u001b[0m   \u001b[38;5;124m\"\u001b[39m\u001b[38;5;124mCOLUMNS\u001b[39m\u001b[38;5;124m\"\u001b[39m: columns,\n\u001b[1;32m      3\u001b[0m   \u001b[38;5;124m\"\u001b[39m\u001b[38;5;124mNUM_PERIODO_ALUNO\u001b[39m\u001b[38;5;124m\"\u001b[39m: semesters_beta1,\n\u001b[1;32m      4\u001b[0m   \u001b[38;5;124m\"\u001b[39m\u001b[38;5;124mFORMA_EVASAO\u001b[39m\u001b[38;5;124m\"\u001b[39m: dropout_beta1\n\u001b[1;32m      5\u001b[0m })\n\u001b[0;32m----> 7\u001b[0m corr_df\n",
      "\u001b[0;31mNameError\u001b[0m: name 'corr_df' is not defined"
     ]
    }
   ],
   "source": [
    "orr_df = pd.DataFrame({\n",
    "  \"COLUMNS\": columns,\n",
    "  \"NUM_PERIODO_ALUNO\": semesters_beta1,\n",
    "  \"FORMA_EVASAO\": dropout_beta1\n",
    "})\n",
    "\n",
    "corr_df"
   ]
  },
  {
   "cell_type": "code",
   "execution_count": null,
   "id": "79c3c9aa-3932-4b0b-94a8-8924bd2b2c7e",
   "metadata": {},
   "outputs": [],
   "source": []
  }
 ],
 "metadata": {
  "kernelspec": {
   "display_name": "Python 3 (ipykernel)",
   "language": "python",
   "name": "python3"
  },
  "language_info": {
   "codemirror_mode": {
    "name": "ipython",
    "version": 3
   },
   "file_extension": ".py",
   "mimetype": "text/x-python",
   "name": "python",
   "nbconvert_exporter": "python",
   "pygments_lexer": "ipython3",
   "version": "3.11.9"
  }
 },
 "nbformat": 4,
 "nbformat_minor": 5
}
